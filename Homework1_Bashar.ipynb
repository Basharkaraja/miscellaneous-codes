{
  "nbformat": 4,
  "nbformat_minor": 0,
  "metadata": {
    "colab": {
      "provenance": []
    },
    "kernelspec": {
      "name": "python3",
      "display_name": "Python 3"
    },
    "language_info": {
      "name": "python"
    }
  },
  "cells": [
    {
      "cell_type": "code",
      "execution_count": 1,
      "metadata": {
        "id": "zPQ1sKktg7Od"
      },
      "outputs": [],
      "source": [
        "import numpy as np\n",
        "import matplotlib.pyplot as plt"
      ]
    },
    {
      "cell_type": "code",
      "source": [
        "# E in ev\n",
        "# length in nm\n",
        "#hc=1240 ev\n",
        "# hbar-c use 197 ev* nm\n",
        "# mass in mc^2. mass of electron =511000\n",
        "a=1 # length of well\n",
        "U=0 # potential inside the well\n",
        "# k=1 is equal to 2m/hbar^2 \n",
        "m=511000\n",
        "hbc=197\n",
        "k=2*m/hbc**2\n",
        "\n",
        "E=2\n",
        "dE=0.01\n",
        "psi=0\n",
        "psidot=1\n",
        "psiddot=-k*psi*E\n",
        "\n",
        "\n",
        "x=0\n",
        "dx=0.001\n",
        "\n",
        "psip=[]\n",
        "xp=[]\n",
        "psifinal=1"
      ],
      "metadata": {
        "id": "_pgwBLW2hA0L"
      },
      "execution_count": 2,
      "outputs": []
    },
    {
      "cell_type": "code",
      "source": [
        "def wave(psidott=1):\n",
        "  a=1 \n",
        "  U=0 \n",
        "# \n",
        "  m=511000\n",
        "  hbc=197\n",
        "  k=2*m/hbc**2\n",
        "\n",
        "  E=2\n",
        "  dE=0.01\n",
        "  psi=0\n",
        "  psidot=psidott\n",
        "  psiddot=-k*psi*E\n",
        "\n",
        "\n",
        "  x=0\n",
        "  dx=0.001\n",
        "\n",
        "  psip=[]\n",
        "  xp=[]\n",
        "  psifinal=1\n",
        "  while np.abs(psifinal)>0.002:\n",
        "    x=0\n",
        "    psidot=psidott\n",
        "    psip=[]\n",
        "    xp=[]\n",
        "  \n",
        "    while x<a:\n",
        "      psiddot=-k*(E-U)*psi\n",
        "      psidot=psidot+psiddot*dx\n",
        "      psi=psi+psidot*dx\n",
        "      x=x+dx\n",
        "      xp=xp+[x]\n",
        "      psip=psip+[psi]\n",
        "\n",
        "    \n",
        "    psifinal=psi\n",
        "    E=E+dE\n",
        "  \n",
        "  return (xp,psip)"
      ],
      "metadata": {
        "id": "cGJa2ds1hMmR"
      },
      "execution_count": 7,
      "outputs": []
    },
    {
      "cell_type": "code",
      "source": [
        "# it is good to know that this gives a non normalized wave function.\n",
        "# that is why we will need to find the area under that curve and divide psidot by it so that we can get a normalized one\n",
        "x_values,psip=wave()"
      ],
      "metadata": {
        "id": "zgwInvOThTs5"
      },
      "execution_count": 4,
      "outputs": []
    },
    {
      "cell_type": "code",
      "source": [
        "area=0\n",
        "for i in range(len(psip)-1):\n",
        "  dA=(psip[i]**2)*dx\n",
        "  area=area+dA\n",
        "\n",
        "print('Area = ', area)\n",
        "x_values,new_psip=wave(psidot/np.sqrt(area))"
      ],
      "metadata": {
        "colab": {
          "base_uri": "https://localhost:8080/"
        },
        "id": "nRbwYt1Yh24C",
        "outputId": "e6a5a3fa-36ca-4b5a-98d3-d27501cacbd8"
      },
      "execution_count": 5,
      "outputs": [
        {
          "output_type": "stream",
          "name": "stdout",
          "text": [
            "Area =  0.005688411497300248\n"
          ]
        }
      ]
    },
    {
      "cell_type": "code",
      "source": [
        "# recall the function to normal the wave\n",
        "\n",
        "print('E = ',E,'eV')\n",
        "print('psifinal = ',psifinal)\n",
        "plt.plot(x_values,new_psip)\n",
        "plt.xlabel('x')\n",
        "plt.ylabel('psi')\n",
        "plt.grid()\n",
        "plt.show()"
      ],
      "metadata": {
        "colab": {
          "base_uri": "https://localhost:8080/",
          "height": 316
        },
        "id": "7LFuDMk6iAmc",
        "outputId": "bda0cc06-edfe-4d2a-943c-ccadca448049"
      },
      "execution_count": 6,
      "outputs": [
        {
          "output_type": "stream",
          "name": "stdout",
          "text": [
            "E =  2 eV\n",
            "psifinal =  1\n"
          ]
        },
        {
          "output_type": "display_data",
          "data": {
            "text/plain": [
              "<Figure size 432x288 with 1 Axes>"
            ],
            "image/png": "[encoded data removed]"
          },
          "metadata": {
            "needs_background": "light"
          }
        }
      ]
    },
    {
      "cell_type": "markdown",
      "source": [
        "# what we notice:\n",
        "we notice that as we are changing the energy E, our function keeps on changing ocourse. We want our function to meet our expectation, that is at x=a which is 1 here, the wave function should go all the way down to zero. to do that we need to keep on varaying E until we get the right answer.\n",
        "\n",
        "what is still missing is that our answer is not normalized.\n",
        "\n",
        "so what we have done is that we divided by the area so that we got a normalized wave function, and then plot the wave.\n",
        "\n",
        "\n"
      ],
      "metadata": {
        "id": "5L7z1SBykclG"
      }
    },
    {
      "cell_type": "code",
      "source": [],
      "metadata": {
        "id": "DYjNdBV6kdqJ"
      },
      "execution_count": null,
      "outputs": []
    }
  ]
}