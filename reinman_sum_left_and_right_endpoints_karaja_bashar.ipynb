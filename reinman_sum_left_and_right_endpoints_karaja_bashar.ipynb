{
  "nbformat": 4,
  "nbformat_minor": 0,
  "metadata": {
    "colab": {
      "provenance": [],
      "collapsed_sections": []
    },
    "kernelspec": {
      "name": "python3",
      "display_name": "Python 3"
    },
    "language_info": {
      "name": "python"
    }
  },
  "cells": [
    {
      "cell_type": "code",
      "execution_count": 1,
      "metadata": {
        "id": "zBHge1Zc5QA_"
      },
      "outputs": [],
      "source": [
        "import numpy as np\n",
        "import matplotlib.pyplot as plt\n",
        "import random\n",
        "%matplotlib inline"
      ]
    },
    {
      "cell_type": "code",
      "source": [
        "# assume we have a function f(x)such that: f(x)=x**2 +3:\n",
        "# and suppose we want to evaluate the area from a to b suhc that a<b and a and b are random chosen points.\n",
        "# we will be first doing the left point rule of reinman sum:\n",
        "# assume that the number of rectangles we want is r\n",
        "r=3\n",
        "a=2\n",
        "b=8\n",
        "dx=(b-a)/r\n",
        "left_x=np.arange(a,b,dx)\n",
        "# create a function f that takes a numpy array of x values and returns their corresponding evaluation as a numpy array as well\n",
        "\n",
        "def f(x):\n",
        "  y=1/x\n",
        "  return y\n",
        "\n",
        "y=f(left_x)\n",
        "left_x"
      ],
      "metadata": {
        "colab": {
          "base_uri": "https://localhost:8080/"
        },
        "id": "z0c6i9EM5WZV",
        "outputId": "128a2164-913a-461f-8888-9523c6c5ee50"
      },
      "execution_count": 40,
      "outputs": [
        {
          "output_type": "execute_result",
          "data": {
            "text/plain": [
              "array([2., 4., 6.])"
            ]
          },
          "metadata": {},
          "execution_count": 40
        }
      ]
    },
    {
      "cell_type": "code",
      "source": [
        "left_areas=dx*(y)\n",
        "\n",
        "area=sum(left_areas)\n",
        "\n",
        "area"
      ],
      "metadata": {
        "colab": {
          "base_uri": "https://localhost:8080/"
        },
        "id": "XbMvLllq6FQ7",
        "outputId": "b523a28e-90e3-476b-febf-00923152066d"
      },
      "execution_count": 37,
      "outputs": [
        {
          "output_type": "execute_result",
          "data": {
            "text/plain": [
              "1.8333333333333333"
            ]
          },
          "metadata": {},
          "execution_count": 37
        }
      ]
    },
    {
      "cell_type": "code",
      "source": [
        "# right endpoint rule:\n",
        "right_x=np.arange(a+dx,b+dx,dx)\n",
        "right_x"
      ],
      "metadata": {
        "colab": {
          "base_uri": "https://localhost:8080/"
        },
        "id": "O7YzzP1J6n08",
        "outputId": "be6b4563-868a-412f-c4d2-a664bfdede21"
      },
      "execution_count": 42,
      "outputs": [
        {
          "output_type": "execute_result",
          "data": {
            "text/plain": [
              "array([4., 6., 8.])"
            ]
          },
          "metadata": {},
          "execution_count": 42
        }
      ]
    },
    {
      "cell_type": "code",
      "source": [
        "y=f(right_x)\n",
        "\n",
        "right_areas=dx*(y)\n",
        "\n",
        "area=sum(right_areas)\n",
        "\n",
        "area"
      ],
      "metadata": {
        "colab": {
          "base_uri": "https://localhost:8080/"
        },
        "id": "V1LB52rm7jbC",
        "outputId": "ba304176-2658-4931-b210-cebcfbfeec1b"
      },
      "execution_count": 43,
      "outputs": [
        {
          "output_type": "execute_result",
          "data": {
            "text/plain": [
              "1.0833333333333333"
            ]
          },
          "metadata": {},
          "execution_count": 43
        }
      ]
    },
    {
      "cell_type": "code",
      "source": [
        " "
      ],
      "metadata": {
        "id": "tLa2lU6F8Tt2"
      },
      "execution_count": null,
      "outputs": []
    }
  ]
}