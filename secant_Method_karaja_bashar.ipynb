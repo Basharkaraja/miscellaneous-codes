{
  "nbformat": 4,
  "nbformat_minor": 0,
  "metadata": {
    "colab": {
      "provenance": [],
      "collapsed_sections": []
    },
    "kernelspec": {
      "name": "python3",
      "display_name": "Python 3"
    },
    "language_info": {
      "name": "python"
    }
  },
  "cells": [
    {
      "cell_type": "code",
      "execution_count": 1,
      "metadata": {
        "id": "l6EnK8RK1h1J"
      },
      "outputs": [],
      "source": [
        "import numpy as np\n",
        "import matplotlib.pyplot as plt\n",
        "import random\n",
        "from sympy import *\n",
        "%matplotlib inline"
      ]
    },
    {
      "cell_type": "code",
      "source": [
        "def f(x):\n",
        "  y=x**2 -2\n",
        "  return y\n",
        "\n",
        "# assume a random interval where the root lies in:\n",
        "# assume it is:[1,2]\n",
        "x0=1\n",
        "x1=2\n",
        "f0=f(x0)\n",
        "f1=f(x1)\n",
        "x2=x1-((x0-x1)/(f0-f1))*f(x1)\n",
        "\n",
        "xi=0\n",
        "while round(x2,6)!=round(xi,6):\n",
        "  xi=x2\n",
        "  x2=x2 - ((x0-x1)/(f(x0)-f(x1)))*f(x1)\n",
        "  x0=x1\n",
        "  x1=x2"
      ],
      "metadata": {
        "colab": {
          "base_uri": "https://localhost:8080/"
        },
        "id": "HfmaRNdL1i_q",
        "outputId": "b04b538c-e46e-4b07-ddc6-7435a405f0c1"
      },
      "execution_count": 5,
      "outputs": [
        {
          "output_type": "execute_result",
          "data": {
            "text/plain": [
              "1.4142135623695695"
            ]
          },
          "metadata": {},
          "execution_count": 5
        }
      ]
    },
    {
      "cell_type": "code",
      "source": [],
      "metadata": {
        "id": "EnaqPLq16n7d"
      },
      "execution_count": null,
      "outputs": []
    }
  ]
}