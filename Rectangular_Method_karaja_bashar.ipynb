{
  "nbformat": 4,
  "nbformat_minor": 0,
  "metadata": {
    "colab": {
      "provenance": [],
      "collapsed_sections": []
    },
    "kernelspec": {
      "name": "python3",
      "display_name": "Python 3"
    },
    "language_info": {
      "name": "python"
    }
  },
  "cells": [
    {
      "cell_type": "code",
      "execution_count": 3,
      "metadata": {
        "id": "7L8ReA0DgCYw"
      },
      "outputs": [],
      "source": [
        "import numpy as np\n",
        "import matplotlib.pyplot as plt\n",
        "import random\n",
        "import math\n",
        "%matplotlib inline"
      ]
    },
    {
      "cell_type": "code",
      "source": [
        "# let n be the number of points we have and m=n-1 is \n",
        "#the number of partitions\n",
        "n=random.uniform(1,20)\n",
        "m=n-1\n",
        "n=9\n",
        "m=8 #\n",
        "a=1 # initial point\n",
        "b=2 # final point\n",
        "h=(b-a)/m\n",
        "x=np.arange(1,2+h,h)\n",
        "y=np.sin(x**2)\n",
        "y"
      ],
      "metadata": {
        "colab": {
          "base_uri": "https://localhost:8080/"
        },
        "id": "lccs_-K3gJXv",
        "outputId": "aa5f6eae-a18e-4ef7-c88e-f5c3d695f5c5"
      },
      "execution_count": 14,
      "outputs": [
        {
          "output_type": "execute_result",
          "data": {
            "text/plain": [
              "array([ 0.84147098,  0.95379549,  0.99996559,  0.9492893 ,  0.7780732 ,\n",
              "        0.48027451,  0.07901022, -0.36537195, -0.7568025 ])"
            ]
          },
          "metadata": {},
          "execution_count": 14
        }
      ]
    },
    {
      "cell_type": "code",
      "source": [
        "# approximation s is:\n",
        "index=1\n",
        "midpoints=[]\n",
        "while True:\n",
        "  if index+2<=len(y):\n",
        "    midpoints+=[y[index]]\n",
        "    index+=2\n",
        "  else:\n",
        "    break\n",
        "\n",
        "midpoints\n",
        "# convert the midpoints list to an array:\n",
        "mid_array=np.array(midpoints)\n",
        "sum_mid=np.sum(mid_array)\n",
        "\n",
        "s=2*h*sum_mid\n",
        "print('area is:',s,'m^2')"
      ],
      "metadata": {
        "colab": {
          "base_uri": "https://localhost:8080/"
        },
        "id": "VUqk04C3g4S8",
        "outputId": "ac1830d8-0ae0-4951-9bc0-a792f5ff87ed"
      },
      "execution_count": 30,
      "outputs": [
        {
          "output_type": "stream",
          "name": "stdout",
          "text": [
            "area is: 0.5044968373399008 m^2\n"
          ]
        }
      ]
    },
    {
      "cell_type": "code",
      "source": [],
      "metadata": {
        "id": "c1r0W5tEhAmi"
      },
      "execution_count": null,
      "outputs": []
    }
  ]
}