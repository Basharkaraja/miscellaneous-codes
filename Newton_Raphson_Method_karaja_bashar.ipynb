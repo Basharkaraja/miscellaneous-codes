{
  "nbformat": 4,
  "nbformat_minor": 0,
  "metadata": {
    "colab": {
      "provenance": []
    },
    "kernelspec": {
      "name": "python3",
      "display_name": "Python 3"
    },
    "language_info": {
      "name": "python"
    }
  },
  "cells": [
    {
      "cell_type": "code",
      "execution_count": 2,
      "metadata": {
        "id": "wc1cXtVErH07"
      },
      "outputs": [],
      "source": [
        "import numpy as np\n",
        "import matplotlib.pyplot as plt\n",
        "import random\n",
        "from sympy import *\n",
        "%matplotlib inline"
      ]
    },
    {
      "cell_type": "code",
      "source": [
        "# we need to find f'(x), which we will denote here as df for simplicity:\n",
        "def fn(x):\n",
        "  y=x**2 -2\n",
        "  return y\n",
        "\n",
        "x = symbols('x')\n",
        "f = x**2-2\n",
        "df = diff(f, x)\n",
        "df"
      ],
      "metadata": {
        "colab": {
          "base_uri": "https://localhost:8080/"
        },
        "id": "mUf6j3rUrORI",
        "outputId": "32fd0dae-24c3-4fbb-ca2d-f01cb8e30f47"
      },
      "execution_count": 12,
      "outputs": [
        {
          "output_type": "execute_result",
          "data": {
            "text/plain": [
              "2"
            ]
          },
          "metadata": {},
          "execution_count": 12
        }
      ]
    },
    {
      "cell_type": "code",
      "source": [
        "# the general formula of newton's raphson method is: xn+1=xn-f(x)/f'(x):\n",
        "# let's pick a starting point, x0:\n",
        "x0=2\n",
        "xn=x0 - fn(x0)/df.subs(x,x0)\n",
        "# it is clear that the root of the equation we have is radical 2, however we want to estimate it using this method up to 6 decimals\n",
        "while round(xn,6)!=round(xi,6):\n",
        "  xi=xn\n",
        "  xn=xn - fn(xn)/df.subs(x,xn)\n",
        "\n",
        "print('root is:',float(xn))\n",
        "\n"
      ],
      "metadata": {
        "colab": {
          "base_uri": "https://localhost:8080/"
        },
        "id": "3k1tdlY8sjFv",
        "outputId": "918e4d55-0aaa-4b8b-a937-7a6433b96c9e"
      },
      "execution_count": 24,
      "outputs": [
        {
          "output_type": "stream",
          "name": "stdout",
          "text": [
            "root is: 1.4142135623730951\n"
          ]
        }
      ]
    },
    {
      "cell_type": "code",
      "source": [],
      "metadata": {
        "id": "7zLBlGMTyRyV"
      },
      "execution_count": null,
      "outputs": []
    }
  ]
}