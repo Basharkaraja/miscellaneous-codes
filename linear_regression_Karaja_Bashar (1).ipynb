{
  "nbformat": 4,
  "nbformat_minor": 0,
  "metadata": {
    "colab": {
      "provenance": [],
      "collapsed_sections": []
    },
    "kernelspec": {
      "name": "python3",
      "display_name": "Python 3"
    },
    "language_info": {
      "name": "python"
    }
  },
  "cells": [
    {
      "cell_type": "code",
      "execution_count": 106,
      "metadata": {
        "id": "Uf6meuMdLne8"
      },
      "outputs": [],
      "source": [
        "import numpy as np\n",
        "import matplotlib.pyplot as plt\n",
        "import random"
      ]
    },
    {
      "cell_type": "code",
      "source": [
        "# create a random sets of points:\n",
        "X=[]\n",
        "Y=[]\n",
        "for i in range(1,20):\n",
        "  \n",
        "  Y+=[random.uniform(1,100)]\n",
        "\n",
        "  X+=[random.uniform(1,100)]\n",
        "  \n",
        "X=sorted(X)\n"
      ],
      "metadata": {
        "id": "BhCc0C_mLuaT"
      },
      "execution_count": 113,
      "outputs": []
    },
    {
      "cell_type": "code",
      "source": [
        "# the general equation of the best fit linear line is: y=bx+a:\n",
        "#we need to fidn both a and b:\n",
        "\n",
        "# lets start by b, the slope of the line:\n",
        "# its general formula is: b=r (Sy)/Sx\n",
        "#where Sy and Sx are the standard deviation of y and x respectively\n",
        "# and r is the correlation coefficient with: r= summation of ((x-x_mean)(y-y_mean)/radical (summation (x-x_mean)^2 . summation(y-y_mean)^2))\n",
        "\n",
        "\n",
        "\n",
        "x_mean=np.mean(x)\n",
        "y_mean=np.mean(y)\n",
        "\n",
        "# find smmation(xi-x_mean):\n",
        "diff_x=0\n",
        "for xi in X:\n",
        "  diff_x+=(xi-x_mean)**2\n",
        "\n",
        "# find summation(yi-y_mean):\n",
        "diff_y=0\n",
        "for yi in Y:\n",
        "  diff_y+=(yi-y_mean)**2\n",
        "\n",
        "\n",
        "# calculate r:\n",
        "r=0\n",
        "\n",
        "for i in range(len(X)):\n",
        "  r+=((X[i]-x_mean)*(Y[i]-y_mean))/((diff_x) * (diff_y))**(1/2)\n",
        "\n",
        "r\n",
        "  "
      ],
      "metadata": {
        "colab": {
          "base_uri": "https://localhost:8080/"
        },
        "id": "D_-JPjltN4Db",
        "outputId": "32a37a1c-278b-47de-9c88-1648b4db45d5"
      },
      "execution_count": 114,
      "outputs": [
        {
          "output_type": "execute_result",
          "data": {
            "text/plain": [
              "-0.11183699267869805"
            ]
          },
          "metadata": {},
          "execution_count": 114
        }
      ]
    },
    {
      "cell_type": "code",
      "source": [
        "# standard deviation of x and y:\n",
        "sx=(diff_x/(len(X)-1))**(1/2)\n",
        "sy=(diff_y/(len(Y)-1))**(1/2)\n",
        "\n",
        "b=r*sy/sx\n",
        "b"
      ],
      "metadata": {
        "id": "BadvkvK2PcQ9",
        "colab": {
          "base_uri": "https://localhost:8080/"
        },
        "outputId": "b47239e1-1bae-465d-8a69-17633cff963a"
      },
      "execution_count": 115,
      "outputs": [
        {
          "output_type": "execute_result",
          "data": {
            "text/plain": [
              "-0.14436480557588474"
            ]
          },
          "metadata": {},
          "execution_count": 115
        }
      ]
    },
    {
      "cell_type": "code",
      "source": [
        "a=y_mean-b*x_mean\n",
        "a"
      ],
      "metadata": {
        "colab": {
          "base_uri": "https://localhost:8080/"
        },
        "id": "YoRk_gpohXJu",
        "outputId": "8cab83f4-f3b2-476f-c7e4-2d5b1d398ad6"
      },
      "execution_count": 116,
      "outputs": [
        {
          "output_type": "execute_result",
          "data": {
            "text/plain": [
              "56.95474190564857"
            ]
          },
          "metadata": {},
          "execution_count": 116
        }
      ]
    },
    {
      "cell_type": "code",
      "source": [
        "y_new=[]\n",
        "for xi in X:\n",
        "  y_new+=[b*xi +a]\n",
        "\n",
        "\n",
        "y_new"
      ],
      "metadata": {
        "colab": {
          "base_uri": "https://localhost:8080/"
        },
        "id": "u6c-oOO9vjQc",
        "outputId": "41d5766a-7870-4594-e76e-c9d7eb1a695f"
      },
      "execution_count": 117,
      "outputs": [
        {
          "output_type": "execute_result",
          "data": {
            "text/plain": [
              "[55.71145224347613,\n",
              " 54.273831657222985,\n",
              " 53.05469256525598,\n",
              " 52.75981189551983,\n",
              " 52.22829690535563,\n",
              " 50.748840582476234,\n",
              " 50.487644386572285,\n",
              " 50.252295906313876,\n",
              " 50.01939793394976,\n",
              " 49.74020645718525,\n",
              " 48.683676925272245,\n",
              " 48.53868773025269,\n",
              " 47.76898217594073,\n",
              " 47.21643511120659,\n",
              " 46.71756928840494,\n",
              " 45.8021331797497,\n",
              " 44.47294557393778,\n",
              " 44.46775853089438,\n",
              " 44.221435267920505]"
            ]
          },
          "metadata": {},
          "execution_count": 117
        }
      ]
    },
    {
      "cell_type": "code",
      "source": [
        "plt.plot(X,Y,'ro',Label='original points')\n",
        "plt.plot(X,y_new,'--',Label='best fit line')"
      ],
      "metadata": {
        "colab": {
          "base_uri": "https://localhost:8080/",
          "height": 282
        },
        "id": "zM8Yn3NtwQDP",
        "outputId": "086f834e-8cc7-4b54-8757-ffa7094e5903"
      },
      "execution_count": 118,
      "outputs": [
        {
          "output_type": "execute_result",
          "data": {
            "text/plain": [
              "[<matplotlib.lines.Line2D at 0x7f33ec7ad150>]"
            ]
          },
          "metadata": {},
          "execution_count": 118
        },
        {
          "output_type": "display_data",
          "data": {
            "text/plain": [
              "<Figure size 432x288 with 1 Axes>"
            ],
            "image/png": "[encoded data removed]"
          },
          "metadata": {
            "needs_background": "light"
          }
        }
      ]
    },
    {
      "cell_type": "code",
      "source": [
        "\n"
      ],
      "metadata": {
        "colab": {
          "base_uri": "https://localhost:8080/"
        },
        "id": "1QZmEU5awa3F",
        "outputId": "2095789c-ab61-4eb6-a3ae-609dd467b9dc"
      },
      "execution_count": 75,
      "outputs": [
        {
          "output_type": "execute_result",
          "data": {
            "text/plain": [
              "array([35.2352593 , 40.45691503, 65.05078794, 17.39394223, 39.50985403,\n",
              "        9.01524426, 74.33776959, 27.98269618, 35.41623036, 46.90446939,\n",
              "       19.24790434, 30.61398541, 50.64281217, 85.16464175, 62.93831727,\n",
              "       33.63355504, 69.40144574, 49.13320055, 47.43640081])"
            ]
          },
          "metadata": {},
          "execution_count": 75
        }
      ]
    },
    {
      "cell_type": "code",
      "source": [],
      "metadata": {
        "id": "G6Uubv4ExnwR"
      },
      "execution_count": null,
      "outputs": []
    }
  ]
}