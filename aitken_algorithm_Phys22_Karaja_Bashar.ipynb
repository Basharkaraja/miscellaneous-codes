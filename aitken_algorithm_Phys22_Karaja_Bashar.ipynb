{
  "nbformat": 4,
  "nbformat_minor": 0,
  "metadata": {
    "colab": {
      "provenance": [],
      "collapsed_sections": []
    },
    "kernelspec": {
      "name": "python3",
      "display_name": "Python 3"
    },
    "language_info": {
      "name": "python"
    }
  },
  "cells": [
    {
      "cell_type": "code",
      "execution_count": 1,
      "metadata": {
        "id": "IIEiMF3XDWDv"
      },
      "outputs": [],
      "source": [
        "import numpy as np\n",
        "import matplotlib.pyplot as plt\n"
      ]
    },
    {
      "cell_type": "code",
      "source": [
        "# for one point evaluation:\n",
        "X=np.array([16,64,100],float)\n",
        "Y=np.array([1/4,1/8,1/10],float)\n",
        "\n",
        "def pol(x,x_values,y_values):  \n",
        "  \n",
        "  p_x=0\n",
        "  for i in range(len(x_values)):\n",
        "    p_i=1\n",
        "    for j in range(len(x_values)):\n",
        "      if i!=j:\n",
        "        p_i*=((x-X[j])/(X[i]-X[j]))\n",
        "    p_x+=p_i*Y[i]\n",
        "  return p_x\n",
        "\n",
        "\n",
        "a=pol(81,X,Y)\n",
        "print(a)\n"
      ],
      "metadata": {
        "colab": {
          "base_uri": "https://localhost:8080/"
        },
        "id": "b_bJ0eg0jNy4",
        "outputId": "93ebe46d-9443-4a6e-9e49-781c9ba56680"
      },
      "execution_count": 35,
      "outputs": [
        {
          "output_type": "stream",
          "name": "stdout",
          "text": [
            "0.10585110780423282\n"
          ]
        }
      ]
    },
    {
      "cell_type": "code",
      "source": [
        "# for many points:\n",
        "\n",
        "x=np.array([16,64,81,100],float)\n",
        "y=np.array([1/4,1/8,1/9,1/10],float)\n",
        "\n",
        "xt= np.linspace(x[0],x[-1])\n",
        "yt=np.array([],float)\n",
        "\n",
        "for x_p in xt:\n",
        "  y_p=0\n",
        "  for i_x,i_y in zip(x,y):\n",
        "    y_p+=i_y * np.prod((x_p - x[x != i_x])/(i_x - x[x != i_x]))\n",
        "  yt= np.append(yt,y_p)\n",
        "\n",
        "plt.plot(x,y,'o',Label='original points')\n",
        "plt.plot(xt,yt,'-',Label='Interpolation Line')\n",
        "plt.xlabel('x')\n",
        "plt.ylabel('y')\n",
        "plt.legend()\n",
        "\n",
        "\n"
      ],
      "metadata": {
        "colab": {
          "base_uri": "https://localhost:8080/",
          "height": 297
        },
        "id": "pB-RfMf0HM_D",
        "outputId": "383eadf6-7c11-4142-8543-2438274540be"
      },
      "execution_count": 70,
      "outputs": [
        {
          "output_type": "execute_result",
          "data": {
            "text/plain": [
              "<matplotlib.legend.Legend at 0x7f002dec9d10>"
            ]
          },
          "metadata": {},
          "execution_count": 70
        },
        {
          "output_type": "display_data",
          "data": {
            "text/plain": [
              "<Figure size 432x288 with 1 Axes>"
            ],
            "image/png": "[encoded data removed]"
          },
          "metadata": {
            "needs_background": "light"
          }
        }
      ]
    },
    {
      "cell_type": "code",
      "source": [],
      "metadata": {
        "id": "O3POJK6LJj85"
      },
      "execution_count": null,
      "outputs": []
    }
  ]
}