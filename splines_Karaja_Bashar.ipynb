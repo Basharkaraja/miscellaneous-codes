{
  "nbformat": 4,
  "nbformat_minor": 0,
  "metadata": {
    "colab": {
      "provenance": [],
      "collapsed_sections": []
    },
    "kernelspec": {
      "name": "python3",
      "display_name": "Python 3"
    },
    "language_info": {
      "name": "python"
    }
  },
  "cells": [
    {
      "cell_type": "code",
      "execution_count": 2,
      "metadata": {
        "id": "EDwTlb6Wct6l"
      },
      "outputs": [],
      "source": [
        "import numpy as np\n",
        "import matplotlib.pyplot as plt\n"
      ]
    },
    {
      "cell_type": "code",
      "source": [
        "x=[1,2,3,4,5,6,7]\n",
        "y=[3,7,4,8,2,8,9]\n",
        "\n",
        "n=len(x)\n",
        "h=[]\n",
        "for i in range(0,n-1):\n",
        "  h+=[x[i+1]-x[i]]\n",
        "\n",
        "d=[]\n",
        "b=[]\n",
        "\n",
        "for i in range(1,n-1):\n",
        "  d+=[2*(h[i-1]+h[i])]\n",
        "  b+=[6*(y[i]/h[i]-y[i-1]/h[i-1])]\n",
        "\n",
        "A=[]\n",
        "\n",
        "for i in range(1,n-1):\n",
        "  row=[]\n",
        "  for j in range(1,n-1):\n",
        "    if i==j:\n",
        "      row+=[d[i-1]]\n",
        "    elif i==j-1:\n",
        "      row+=[h[i-1]]\n",
        "    elif i==j+1:\n",
        "      row+=[h[i-2]]\n",
        "    else:\n",
        "      row+=[0]\n",
        "  A+=[row]\n",
        "\n",
        "B=[]\n",
        "for i in b:\n",
        "  B+=[i]\n",
        "\n",
        "B\n",
        "\n",
        "sol=np.dot(np.linalg.inv(A),B)\n",
        "p_2=[0]\n",
        "for i in sol:\n",
        "  p_2+=[i]\n",
        "p_2+=[0]\n",
        "p_2\n",
        "\n",
        "\n",
        "alpha=[]\n",
        "betta=[]\n",
        "gamma=[]\n",
        "mu=[]\n",
        "\n",
        "for i in range(1,n-1):\n",
        "  alpha+=[p_2[i+1]/6*(h[i])]\n",
        "  betta+=[-p_2[i]/(6*[h[i]])]\n",
        "  gamma+=[y[i+1]/h[i] - h[i]*p_2[i+1]/6]\n",
        "  mu+=   [h[i]*p_2[i]/6 - y[i]/h[i]]\n",
        "\n",
        "\n"
      ],
      "metadata": {
        "id": "qv86AqLcd-VZ"
      },
      "execution_count": 12,
      "outputs": []
    },
    {
      "cell_type": "code",
      "source": [
        "# cubic:\n",
        "p_i=[]\n",
        "p_tot=[]\n",
        "xa=1\n",
        "for j in x:\n",
        "  p_i+=[alpha[3]*(j-x[3]) + betta[3]*(j-x[3+1])**3 + gamma[3]*(j-x[3]) + mu[3]*(j-x[3+1])]\n",
        "\n",
        "\n",
        "# quadratic:\n",
        "p_i=[]\n",
        "p_tot=[]\n",
        "xa=1\n",
        "for j in x:\n",
        "  p_i+=[alpha[2]*(j-x[2]) + betta[2]*(j-x[2+1])**3 + gamma[2]*(j-x[2]) + mu[2]*(j-x[2+1])]\n",
        "\n",
        "\n"
      ],
      "metadata": {
        "colab": {
          "base_uri": "https://localhost:8080/"
        },
        "id": "fx6NgLqWejpE",
        "outputId": "f8f5d242-1e2e-4008-ad22-3b66ab18df24"
      },
      "execution_count": 25,
      "outputs": [
        {
          "output_type": "execute_result",
          "data": {
            "text/plain": [
              "[]"
            ]
          },
          "metadata": {},
          "execution_count": 25
        }
      ]
    },
    {
      "cell_type": "code",
      "source": [],
      "metadata": {
        "id": "ipvfoGlagbb0"
      },
      "execution_count": null,
      "outputs": []
    },
    {
      "cell_type": "code",
      "source": [],
      "metadata": {
        "id": "Y_ed3LRCnZf-"
      },
      "execution_count": null,
      "outputs": []
    },
    {
      "cell_type": "code",
      "source": [],
      "metadata": {
        "id": "5scQSgWG6YHa"
      },
      "execution_count": null,
      "outputs": []
    }
  ]
}