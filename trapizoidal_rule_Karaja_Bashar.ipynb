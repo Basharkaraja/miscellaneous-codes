{
  "cells": [
    {
      "cell_type": "code",
      "execution_count": null,
      "id": "f43878e8",
      "metadata": {
        "id": "f43878e8"
      },
      "outputs": [],
      "source": [
        "import numpy as np\n",
        "import matplotlib.pyplot as plt\n",
        "import random"
      ]
    },
    {
      "cell_type": "code",
      "execution_count": null,
      "id": "e01ba34d",
      "metadata": {
        "id": "e01ba34d",
        "outputId": "e7bd1d55-846e-435b-920e-faa79cea5f45"
      },
      "outputs": [
        {
          "data": {
            "text/plain": [
              "[645.0072922134839, 612.1978190471444]"
            ]
          },
          "execution_count": 50,
          "metadata": {},
          "output_type": "execute_result"
        }
      ],
      "source": [
        "# assume our function describes a sin function from 0 to 100 : just for testing\n",
        "# let h be the distance of seperation between : x_i and x_i+1:\n",
        "y=[]\n",
        "h=int(random.uniform(1,10))\n",
        "x=np.linspace(0,100,h)\n",
        "for i in range(len(x)):\n",
        "    y+=[random.uniform(1,1000)]\n",
        "    \n",
        "y"
      ]
    },
    {
      "cell_type": "code",
      "execution_count": null,
      "id": "46d54a75",
      "metadata": {
        "id": "46d54a75",
        "outputId": "47c194c9-bde3-4a59-9425-42f72c45f2c7"
      },
      "outputs": [
        {
          "data": {
            "text/plain": [
              "612.1978190471444"
            ]
          },
          "execution_count": 51,
          "metadata": {},
          "output_type": "execute_result"
        }
      ],
      "source": [
        "# assume that y0 and yn are the initial and the end point of our fucntion:\n",
        "y0=y[0]\n",
        "yn=y[len(y)-1]\n",
        "yn"
      ]
    },
    {
      "cell_type": "code",
      "execution_count": null,
      "id": "939d66c5",
      "metadata": {
        "id": "939d66c5"
      },
      "outputs": [],
      "source": [
        "# now we need to find the middle points:\n",
        "yi=0\n",
        "for i in range(1,len(y)-1):\n",
        "    yi+=y[i]\n",
        "    "
      ]
    },
    {
      "cell_type": "code",
      "execution_count": null,
      "id": "60352690",
      "metadata": {
        "id": "60352690",
        "outputId": "19b30efb-cc04-4d4d-b8fb-ad9990c71544"
      },
      "outputs": [
        {
          "data": {
            "text/plain": [
              "1257.2051112606282"
            ]
          },
          "execution_count": 53,
          "metadata": {},
          "output_type": "execute_result"
        }
      ],
      "source": [
        "area=(h/2)*(y0+2*(yi)+yn)\n",
        "area"
      ]
    },
    {
      "cell_type": "code",
      "execution_count": null,
      "id": "254aba3c",
      "metadata": {
        "id": "254aba3c"
      },
      "outputs": [],
      "source": []
    }
  ],
  "metadata": {
    "kernelspec": {
      "display_name": "Python 3 (ipykernel)",
      "language": "python",
      "name": "python3"
    },
    "language_info": {
      "codemirror_mode": {
        "name": "ipython",
        "version": 3
      },
      "file_extension": ".py",
      "mimetype": "text/x-python",
      "name": "python",
      "nbconvert_exporter": "python",
      "pygments_lexer": "ipython3",
      "version": "3.9.7"
    },
    "colab": {
      "provenance": []
    }
  },
  "nbformat": 4,
  "nbformat_minor": 5
}