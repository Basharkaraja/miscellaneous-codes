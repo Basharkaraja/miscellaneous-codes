{
  "nbformat": 4,
  "nbformat_minor": 0,
  "metadata": {
    "colab": {
      "provenance": [],
      "collapsed_sections": []
    },
    "kernelspec": {
      "name": "python3",
      "display_name": "Python 3"
    },
    "language_info": {
      "name": "python"
    }
  },
  "cells": [
    {
      "cell_type": "code",
      "execution_count": 1,
      "metadata": {
        "id": "l7Hp86FbiU7s"
      },
      "outputs": [],
      "source": [
        "width=1920\n",
        "height=1000\n",
        "\n",
        "max_x=1.6\n",
        "max_y=1.0\n",
        "offset_x=-1.6\n",
        "offset_y=-1.0\n",
        "\n",
        "borders=1.0\n",
        "iterations=500\n",
        "color_mode=1\n",
        "complex_number=complex(-0.8,0.156)\n",
        "\n",
        "height=int((max_y-offset_y)*float(width)/(max_x-offset_x))\n",
        "size= width, height\n",
        "\n"
      ]
    },
    {
      "cell_type": "code",
      "source": [
        "pip install pygame"
      ],
      "metadata": {
        "colab": {
          "base_uri": "https://localhost:8080/"
        },
        "id": "HYdykXe-jCnn",
        "outputId": "240481ce-3274-4f18-c369-f752af2c8a49"
      },
      "execution_count": 3,
      "outputs": [
        {
          "output_type": "stream",
          "name": "stdout",
          "text": [
            "Looking in indexes: https://pypi.org/simple, https://us-python.pkg.dev/colab-wheels/public/simple/\n",
            "Collecting pygame\n",
            "  Downloading pygame-2.1.2-cp37-cp37m-manylinux_2_17_x86_64.manylinux2014_x86_64.whl (21.8 MB)\n",
            "\u001b[K     |████████████████████████████████| 21.8 MB 1.6 MB/s \n",
            "\u001b[?25hInstalling collected packages: pygame\n",
            "Successfully installed pygame-2.1.2\n"
          ]
        }
      ]
    },
    {
      "cell_type": "code",
      "source": [
        "import pygame\n",
        "import math\n",
        "import os"
      ],
      "metadata": {
        "colab": {
          "base_uri": "https://localhost:8080/"
        },
        "id": "Wc7Q1uGajReX",
        "outputId": "976f81d3-764d-4215-bc41-d4e6525f589e"
      },
      "execution_count": 4,
      "outputs": [
        {
          "output_type": "stream",
          "name": "stdout",
          "text": [
            "pygame 2.1.2 (SDL 2.0.16, Python 3.7.14)\n",
            "Hello from the pygame community. https://www.pygame.org/contribute.html\n"
          ]
        }
      ]
    },
    {
      "cell_type": "code",
      "source": [
        "os.environ['SDL_VIDEO_CENTERED']='1'\n",
        "\n",
        "pygame.init()\n",
        "pygame.display.set_caption('julia set fractal')\n",
        "\n",
        "screen=pygame.display.set_mode((width,height))\n",
        "\n",
        "fractal_list=pygame.PixelArray(screen)\n",
        "incr=borders*((max_x-offset_x)/(float(width)))\n",
        "\n",
        "def complex_x(a):\n",
        "  return int(((height)/(offset_y-max_y)*a)+(height*max_y)/(max_y-offset_y))\n",
        "\n",
        "def complex_y(a):\n",
        "  return int(((height)/(offset_x-max_x)*a)+(height*max_x)/(max_x-offset_x))\n",
        "\n",
        "def frange(start,end,increment):\n",
        "  current=start\n",
        "  output_list=[float('%10.75f'%current)]\n",
        "\n",
        "  while current<end:\n",
        "    current+=increment\n",
        "    output_list=output_list+ [float('%10.75f'%current)]\n",
        "\n",
        "  return output_list\n",
        "\n",
        "list1=frange(offset_x,max_x,incr)\n",
        "list2=frange(offset_y,max_y,incr)\n",
        "\n",
        "for x in list1:\n",
        "  for y in list2:\n",
        "    z=complex(x,y)\n",
        "    point=z\n",
        "    accuracy=0\n",
        "    while accuracy<iterations and abs(z)<2.0:\n",
        "      z=z*z + complex_number\n",
        "      accuracy+=1\n",
        "    if accuracy==iterations:\n",
        "      x1=complex_x(point.real)\n",
        "      y1=complex_y(point.imag)\n",
        "\n",
        "      if x1<width and y1<height:\n",
        "        if color_mode==1:\n",
        "          fractal_list[x1,y1]=(12,211,192)\n",
        "\n",
        "        if color_mode==2:\n",
        "          fractal_list=(0,0,0)\n",
        "\n",
        "      if accuracy<iterations:\n",
        "        x1=complex_x(point.real)\n",
        "        y1=complex_y(point.imag)\n",
        "        if color_mode==1:\n",
        "          _n=75* math.log10(accuracy)\n",
        "\n",
        "          if x1<width and y1 <height and y1>0 and x1>0:\n",
        "            fractal_list[x1,y1]=(24,_n,_n)\n",
        "\n",
        "  pygame.display.flip()\n",
        "\n",
        "run=True\n",
        "while run: \n",
        "  for event in pygame.event.get():\n",
        "    if event.type==pygame.QUIT:\n",
        "      run=False\n",
        "\n",
        "pygame.quit()\n",
        "\n",
        "\n"
      ],
      "metadata": {
        "colab": {
          "base_uri": "https://localhost:8080/",
          "height": 241
        },
        "id": "ukALKeP8jYbD",
        "outputId": "82f0e8c4-42a7-47aa-b143-dd529d933428"
      },
      "execution_count": 5,
      "outputs": [
        {
          "output_type": "error",
          "ename": "error",
          "evalue": "ignored",
          "traceback": [
            "\u001b[0;31m---------------------------------------------------------------------------\u001b[0m",
            "\u001b[0;31merror\u001b[0m                                     Traceback (most recent call last)",
            "\u001b[0;32m<ipython-input-5-c78fcdfcb424>\u001b[0m in \u001b[0;36m<module>\u001b[0;34m\u001b[0m\n\u001b[1;32m      4\u001b[0m \u001b[0mpygame\u001b[0m\u001b[0;34m.\u001b[0m\u001b[0mdisplay\u001b[0m\u001b[0;34m.\u001b[0m\u001b[0mset_caption\u001b[0m\u001b[0;34m(\u001b[0m\u001b[0;34m'julia set fractal'\u001b[0m\u001b[0;34m)\u001b[0m\u001b[0;34m\u001b[0m\u001b[0;34m\u001b[0m\u001b[0m\n\u001b[1;32m      5\u001b[0m \u001b[0;34m\u001b[0m\u001b[0m\n\u001b[0;32m----> 6\u001b[0;31m \u001b[0mscreen\u001b[0m\u001b[0;34m=\u001b[0m\u001b[0mpygame\u001b[0m\u001b[0;34m.\u001b[0m\u001b[0mdisplay\u001b[0m\u001b[0;34m.\u001b[0m\u001b[0mset_mode\u001b[0m\u001b[0;34m(\u001b[0m\u001b[0;34m(\u001b[0m\u001b[0mwidth\u001b[0m\u001b[0;34m,\u001b[0m\u001b[0mheight\u001b[0m\u001b[0;34m)\u001b[0m\u001b[0;34m)\u001b[0m\u001b[0;34m\u001b[0m\u001b[0;34m\u001b[0m\u001b[0m\n\u001b[0m\u001b[1;32m      7\u001b[0m \u001b[0;34m\u001b[0m\u001b[0m\n\u001b[1;32m      8\u001b[0m \u001b[0mfractal_list\u001b[0m\u001b[0;34m=\u001b[0m\u001b[0mpygame\u001b[0m\u001b[0;34m.\u001b[0m\u001b[0mPixelArray\u001b[0m\u001b[0;34m(\u001b[0m\u001b[0mscreen\u001b[0m\u001b[0;34m)\u001b[0m\u001b[0;34m\u001b[0m\u001b[0;34m\u001b[0m\u001b[0m\n",
            "\u001b[0;31merror\u001b[0m: No available video device"
          ]
        }
      ]
    },
    {
      "cell_type": "code",
      "source": [],
      "metadata": {
        "id": "EbB-oNFNrgjv"
      },
      "execution_count": null,
      "outputs": []
    }
  ]
}