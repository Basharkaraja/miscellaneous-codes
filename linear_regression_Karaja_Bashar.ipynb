{
  "nbformat": 4,
  "nbformat_minor": 0,
  "metadata": {
    "colab": {
      "provenance": [],
      "collapsed_sections": []
    },
    "kernelspec": {
      "name": "python3",
      "display_name": "Python 3"
    },
    "language_info": {
      "name": "python"
    }
  },
  "cells": [
    {
      "cell_type": "code",
      "execution_count": 46,
      "metadata": {
        "id": "Uf6meuMdLne8"
      },
      "outputs": [],
      "source": [
        "import numpy as np\n",
        "import matplotlib.pyplot as plt\n",
        "import random"
      ]
    },
    {
      "cell_type": "code",
      "source": [
        "# create a random sets of points:\n",
        "X=[]\n",
        "Y=[]\n",
        "for i in range(1,20):\n",
        "  X+=[random.uniform(1,100)]\n",
        "  Y+=[random.uniform(1,100)]\n"
      ],
      "metadata": {
        "id": "BhCc0C_mLuaT"
      },
      "execution_count": 60,
      "outputs": []
    },
    {
      "cell_type": "code",
      "source": [
        "# the general equation of the best fit linear line is: y=bx+a:\n",
        "#we need to fidn both a and b:\n",
        "\n",
        "# lets start by b, the slope of the line:\n",
        "# its general formula is: b=r (Sy)/Sx\n",
        "#where Sy and Sx are the standard deviation of y and x respectively\n",
        "# and r is the correlation coefficient with: r= summation of ((x-x_mean)(y-y_mean)/radical (summation (x-x_mean)^2 . summation(y-y_mean)^2))\n",
        "\n",
        "x=np.array(Y)\n",
        "y=np.array(Y)\n",
        "\n",
        "x_mean=np.mean(x)\n",
        "y_mean=np.mean(y)\n",
        "\n",
        "# find smmation(xi-x_mean):\n",
        "diff_x=0\n",
        "for xi in x:\n",
        "  diff_x+=(xi-x_mean)**2\n",
        "\n",
        "# find summation(yi-y_mean):\n",
        "diff_y=0\n",
        "for yi in y:\n",
        "  diff_y+=(yi-y_mean)**2\n",
        "\n",
        "\n",
        "# calculate r:\n",
        "r=0\n",
        "\n",
        "for i in range(len(x)):\n",
        "  r+=((x[i]-x_mean)*(y[i]-y_mean))/((diff_x) * (diff_y))**(1/2)\n",
        "\n",
        "r\n",
        "  "
      ],
      "metadata": {
        "colab": {
          "base_uri": "https://localhost:8080/"
        },
        "id": "D_-JPjltN4Db",
        "outputId": "19d0037c-1e0c-492e-f8d9-093c146a02c8"
      },
      "execution_count": 61,
      "outputs": [
        {
          "output_type": "execute_result",
          "data": {
            "text/plain": [
              "1.0000000000000002"
            ]
          },
          "metadata": {},
          "execution_count": 61
        }
      ]
    },
    {
      "cell_type": "code",
      "source": [
        "# standard deviation of x and y:\n",
        "sx=(diff_x/(len(x)-1))**(1/2)\n",
        "sy=(diff_y/(len(y)-1))**(1/2)\n",
        "\n",
        "b=r*sy/sx\n",
        "b"
      ],
      "metadata": {
        "id": "BadvkvK2PcQ9",
        "colab": {
          "base_uri": "https://localhost:8080/"
        },
        "outputId": "64348094-6a8e-4740-9422-c9f81126d0d4"
      },
      "execution_count": 62,
      "outputs": [
        {
          "output_type": "execute_result",
          "data": {
            "text/plain": [
              "1.0000000000000002"
            ]
          },
          "metadata": {},
          "execution_count": 62
        }
      ]
    },
    {
      "cell_type": "code",
      "source": [
        "a=y_mean-b*x_mean\n",
        "a"
      ],
      "metadata": {
        "colab": {
          "base_uri": "https://localhost:8080/"
        },
        "id": "YoRk_gpohXJu",
        "outputId": "a9c0de84-4a67-4912-c864-da6dad805266"
      },
      "execution_count": 63,
      "outputs": [
        {
          "output_type": "execute_result",
          "data": {
            "text/plain": [
              "-7.105427357601002e-15"
            ]
          },
          "metadata": {},
          "execution_count": 63
        }
      ]
    },
    {
      "cell_type": "code",
      "source": [
        "y_new=[]\n",
        "for xi in x:\n",
        "  y_new+=[b*xi +a]\n",
        "\n",
        "\n",
        "y_new"
      ],
      "metadata": {
        "colab": {
          "base_uri": "https://localhost:8080/"
        },
        "id": "u6c-oOO9vjQc",
        "outputId": "3338019c-77c3-405d-b32a-5d6ff993c6cc"
      },
      "execution_count": 64,
      "outputs": [
        {
          "output_type": "execute_result",
          "data": {
            "text/plain": [
              "[16.45449442313227,\n",
              " 93.63350434226214,\n",
              " 84.30703075648776,\n",
              " 85.55202656384975,\n",
              " 85.34657447747566,\n",
              " 84.9757392645763,\n",
              " 29.30651296411893,\n",
              " 63.99381971298996,\n",
              " 93.84302035138981,\n",
              " 17.254055612147653,\n",
              " 6.6116877454746135,\n",
              " 17.70926258046125,\n",
              " 32.380734359299666,\n",
              " 8.20859554216803,\n",
              " 64.27144586505881,\n",
              " 36.67808590106457,\n",
              " 28.33378449390782,\n",
              " 35.250155463781276,\n",
              " 22.697628813942853]"
            ]
          },
          "metadata": {},
          "execution_count": 64
        }
      ]
    },
    {
      "cell_type": "code",
      "source": [
        "plt.plot(x,y,'ro',Label='original points')\n",
        "plt.plot(x,y_new,'--',Label='best fit line')"
      ],
      "metadata": {
        "colab": {
          "base_uri": "https://localhost:8080/",
          "height": 282
        },
        "id": "zM8Yn3NtwQDP",
        "outputId": "93e1fb00-26e5-407e-dc56-49e156193a5c"
      },
      "execution_count": 65,
      "outputs": [
        {
          "output_type": "execute_result",
          "data": {
            "text/plain": [
              "[<matplotlib.lines.Line2D at 0x7f33ecaf39d0>]"
            ]
          },
          "metadata": {},
          "execution_count": 65
        },
        {
          "output_type": "display_data",
          "data": {
            "text/plain": [
              "<Figure size 432x288 with 1 Axes>"
            ],
            "image/png": "[encoded data removed]"
          },
          "metadata": {
            "needs_background": "light"
          }
        }
      ]
    },
    {
      "cell_type": "code",
      "source": [
        "\n"
      ],
      "metadata": {
        "colab": {
          "base_uri": "https://localhost:8080/"
        },
        "id": "1QZmEU5awa3F",
        "outputId": "52b2b304-1371-4013-a786-dba8178cab2b"
      },
      "execution_count": 53,
      "outputs": [
        {
          "output_type": "execute_result",
          "data": {
            "text/plain": [
              "[1.5373845756001872,\n",
              " 4.589280141687947,\n",
              " 11.758505288909669,\n",
              " 3.317888021721175,\n",
              " 8.178219679037703,\n",
              " 5.347230657227805,\n",
              " 10.485285970088896,\n",
              " 12.863419831437364,\n",
              " 4.5258456367715505,\n",
              " 9.920113837529875,\n",
              " 3.522182971201363,\n",
              " 2.413834712276701,\n",
              " 11.973611431865402,\n",
              " 7.714758746968603,\n",
              " 1.8799848740741862,\n",
              " 12.350420209739381,\n",
              " 3.363468413857101,\n",
              " 4.995296732170206,\n",
              " 10.688426859106894]"
            ]
          },
          "metadata": {},
          "execution_count": 53
        }
      ]
    },
    {
      "cell_type": "code",
      "source": [],
      "metadata": {
        "id": "G6Uubv4ExnwR"
      },
      "execution_count": null,
      "outputs": []
    }
  ]
}