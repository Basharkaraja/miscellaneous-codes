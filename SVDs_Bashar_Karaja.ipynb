{
  "cells": [
    {
      "cell_type": "code",
      "execution_count": null,
      "id": "ca21da02",
      "metadata": {
        "id": "ca21da02"
      },
      "outputs": [],
      "source": [
        "import numpy as np\n",
        "import matplotlib.pyplot as plt"
      ]
    },
    {
      "cell_type": "code",
      "execution_count": null,
      "id": "4910392b",
      "metadata": {
        "id": "4910392b",
        "outputId": "594a8dbf-d87d-4804-f800-db1c8830de73"
      },
      "outputs": [
        {
          "data": {
            "text/plain": [
              "array([[34., 31., 31., ..., 37., 36., 35.],\n",
              "       [34., 31., 31., ..., 37., 36., 35.],\n",
              "       [34., 31., 31., ..., 37., 36., 35.],\n",
              "       ...,\n",
              "       [ 3.,  3.,  9., ...,  9.,  8.,  9.],\n",
              "       [ 3.,  3.,  9., ...,  9.,  8.,  9.],\n",
              "       [ 3.,  3.,  9., ...,  9.,  8.,  9.]])"
            ]
          },
          "execution_count": 63,
          "metadata": {},
          "output_type": "execute_result"
        }
      ],
      "source": [
        "N=10000\n",
        "count=0\n",
        "pix=np.loadtxt('File'+str(10010)+'.txt')  \n",
        "x,y=np.shape(pix) # to get the dimensions for our matrix\n",
        "X=np.zeros((x*y,51))\n",
        "for i in range(10,61):\n",
        "    name='File'+str(N+i)+'.txt'\n",
        "    pix=np.loadtxt(name)\n",
        "    x,y=np.shape(pix)\n",
        "    one_column=np.reshape(pix,(x*y,1))\n",
        "    X[:,count:(count+1)]=one_column\n",
        "    count+=1\n",
        "X"
      ]
    },
    {
      "cell_type": "code",
      "execution_count": null,
      "id": "9de1a11a",
      "metadata": {
        "id": "9de1a11a",
        "outputId": "dbba45bd-b34a-49eb-887b-75f99f07b8be"
      },
      "outputs": [
        {
          "data": {
            "text/plain": [
              "Text(0, 0.5, 'singular values')"
            ]
          },
          "execution_count": 64,
          "metadata": {},
          "output_type": "execute_result"
        },
        {
          "data": {
            "image/png": "[encoded data removed]",
            "text/plain": [
              "<Figure size 432x288 with 1 Axes>"
            ]
          },
          "metadata": {
            "needs_background": "light"
          },
          "output_type": "display_data"
        }
      ],
      "source": [
        "u,s,v=np.linalg.svd(X,full_matrices=False)\n",
        "\n",
        "index=[]\n",
        "for i in range(len(s)):\n",
        "    index+=[i]\n",
        "plt.plot(index,s)\n",
        "plt.title('singular values vs index')\n",
        "plt.xlabel('index')\n",
        "plt.ylabel('singular values')\n"
      ]
    },
    {
      "cell_type": "code",
      "execution_count": null,
      "id": "d241b8d8",
      "metadata": {
        "id": "d241b8d8",
        "outputId": "7cb68ce2-4f1c-464b-a2b3-98db73a54877"
      },
      "outputs": [
        {
          "data": {
            "text/plain": [
              "Text(0.5, 1.0, 'ratios vs index')"
            ]
          },
          "execution_count": 66,
          "metadata": {},
          "output_type": "execute_result"
        },
        {
          "data": {
            "image/png": "[encoded data removed]",
            "text/plain": [
              "<Figure size 432x288 with 1 Axes>"
            ]
          },
          "metadata": {
            "needs_background": "light"
          },
          "output_type": "display_data"
        }
      ],
      "source": [
        "#for ratios:\n",
        "\n",
        "ratios=[]\n",
        "for i in s:\n",
        "    ratios+=[i/s[0]]\n",
        "    \n",
        "plt.plot(index,ratios)\n",
        "plt.xlabel('index')\n",
        "plt.ylabel('ratios')\n",
        "plt.title('ratios vs index')"
      ]
    },
    {
      "cell_type": "code",
      "execution_count": null,
      "id": "b4ae9559",
      "metadata": {
        "id": "b4ae9559"
      },
      "outputs": [],
      "source": [
        "def svd(u,s,v,index):\n",
        "    matrix=np.zeros((u.shape[0],v.shape[1]))\n",
        "    for i in range(1,index+1):\n",
        "        matrix+=u[:,i-1:i]*v[i-1:i,:]*s[i-1]\n",
        "        \n",
        "    return matrix\n"
      ]
    },
    {
      "cell_type": "code",
      "execution_count": null,
      "id": "9277ae85",
      "metadata": {
        "id": "9277ae85"
      },
      "outputs": [],
      "source": [
        "photorames=[1,2,5,10]\n",
        "sequence_matrix=[]\n",
        "for j in (photorames):\n",
        "    sequence_matrix+=[svd(u,s,v,j)]\n",
        "    \n",
        "#note that the sequence_matrix list contains all matrices of the four cases of singualr values: \n",
        "#1 ,2 5 and 10 singular values respectively    "
      ]
    },
    {
      "cell_type": "code",
      "execution_count": null,
      "id": "b732b735",
      "metadata": {
        "id": "b732b735",
        "outputId": "242648de-4a86-42ba-c934-8aae934b44d3"
      },
      "outputs": [
        {
          "data": {
            "text/plain": [
              "[array([[34.84598367, 34.88791684, 35.10354574, ..., 42.94695039,\n",
              "         43.25141183, 43.43922342],\n",
              "        [34.80621969, 34.84810502, 35.06348786, ..., 42.89794213,\n",
              "         43.20205613, 43.3896534 ],\n",
              "        [34.80621969, 34.84810502, 35.06348786, ..., 42.89794213,\n",
              "         43.20205612, 43.3896534 ],\n",
              "        ...,\n",
              "        [ 7.92205788,  7.93159117,  7.98061331, ...,  9.76377163,\n",
              "          9.83298939,  9.87568741],\n",
              "        [ 7.84503452,  7.85447513,  7.90302064, ...,  9.66884194,\n",
              "          9.73738673,  9.77966961],\n",
              "        [ 7.84503452,  7.85447513,  7.90302064, ...,  9.66884194,\n",
              "          9.73738673,  9.77966961]]),\n",
              " array([[31.0464843 , 31.02725215, 31.19626837, ..., 48.08333941,\n",
              "         48.21021881, 47.82689346],\n",
              "        [31.08258053, 31.06452174, 31.23422256, ..., 47.93177881,\n",
              "         48.06185636, 47.68971992],\n",
              "        [31.08258053, 31.06452174, 31.23422256, ..., 47.93177881,\n",
              "         48.06185636, 47.68971992],\n",
              "        ...,\n",
              "        [ 8.54068814,  8.5601803 ,  8.61679187, ...,  8.92747048,\n",
              "          9.02560195,  9.16129185],\n",
              "        [ 8.54916985,  8.5699458 ,  8.62712973, ...,  8.71694997,\n",
              "          8.81840482,  8.96653262],\n",
              "        [ 8.54916985,  8.5699458 ,  8.62712973, ...,  8.71694997,\n",
              "          8.81840482,  8.96653262]]),\n",
              " array([[26.37513367, 26.28871171, 26.41203638, ..., 39.74423675,\n",
              "         41.73307354, 44.2603265 ],\n",
              "        [26.37946534, 26.29344408, 26.4170525 , ..., 39.52008558,\n",
              "         41.57450391, 44.17397773],\n",
              "        [26.37946534, 26.29344408, 26.4170525 , ..., 39.52008558,\n",
              "         41.57450391, 44.17397773],\n",
              "        ...,\n",
              "        [ 8.49365209,  8.51383803,  8.56996099, ...,  8.04751876,\n",
              "          7.92731115,  8.13760243],\n",
              "        [ 8.4714801 ,  8.49261139,  8.5492147 , ...,  8.15539082,\n",
              "          8.04366441,  8.17670988],\n",
              "        [ 8.4714801 ,  8.49261139,  8.5492147 , ...,  8.15539082,\n",
              "          8.04366441,  8.17670988]]),\n",
              " array([[31.79804294, 31.63859579, 31.54392706, ..., 38.20029848,\n",
              "         34.89111977, 34.53477689],\n",
              "        [31.79168953, 31.63318173, 31.53822507, ..., 37.83147206,\n",
              "         34.79519973, 34.65864567],\n",
              "        [31.79168953, 31.63318173, 31.53822507, ..., 37.83147206,\n",
              "         34.79519973, 34.65864566],\n",
              "        ...,\n",
              "        [ 7.05225423,  7.10245653,  7.23663646, ...,  8.31459723,\n",
              "          8.64345416,  9.19387298],\n",
              "        [ 7.12035505,  7.16564168,  7.29917663, ...,  8.3521248 ,\n",
              "          8.66422681,  9.12327384],\n",
              "        [ 7.12035505,  7.16564168,  7.29917663, ...,  8.3521248 ,\n",
              "          8.66422681,  9.12327384]])]"
            ]
          },
          "execution_count": 69,
          "metadata": {},
          "output_type": "execute_result"
        }
      ],
      "source": [
        "sequence_matrix"
      ]
    },
    {
      "cell_type": "code",
      "execution_count": null,
      "id": "7ef487ac",
      "metadata": {
        "id": "7ef487ac",
        "outputId": "c26e49f5-f160-49db-f4c2-a6747426ff78"
      },
      "outputs": [
        {
          "data": {
            "text/plain": [
              "array([[34., 31., 31., ..., 37., 36., 35.],\n",
              "       [34., 31., 31., ..., 37., 36., 35.],\n",
              "       [34., 31., 31., ..., 37., 36., 35.],\n",
              "       ...,\n",
              "       [ 3.,  3.,  9., ...,  9.,  8.,  9.],\n",
              "       [ 3.,  3.,  9., ...,  9.,  8.,  9.],\n",
              "       [ 3.,  3.,  9., ...,  9.,  8.,  9.]])"
            ]
          },
          "execution_count": 70,
          "metadata": {},
          "output_type": "execute_result"
        }
      ],
      "source": [
        "# we can also check up whether the matrices we got is correct or not\n",
        "# that is if we multiply u,s, and v by taking all the singular \n",
        "#values (51 values) we should get exactly the same origina matrix\n",
        "\n",
        "svd(u,s,v,51)"
      ]
    },
    {
      "cell_type": "code",
      "execution_count": null,
      "id": "3024ef82",
      "metadata": {
        "id": "3024ef82"
      },
      "outputs": [],
      "source": []
    }
  ],
  "metadata": {
    "kernelspec": {
      "display_name": "Python 3",
      "language": "python",
      "name": "python3"
    },
    "language_info": {
      "codemirror_mode": {
        "name": "ipython",
        "version": 3
      },
      "file_extension": ".py",
      "mimetype": "text/x-python",
      "name": "python",
      "nbconvert_exporter": "python",
      "pygments_lexer": "ipython3",
      "version": "3.8.8"
    },
    "colab": {
      "provenance": []
    }
  },
  "nbformat": 4,
  "nbformat_minor": 5
}